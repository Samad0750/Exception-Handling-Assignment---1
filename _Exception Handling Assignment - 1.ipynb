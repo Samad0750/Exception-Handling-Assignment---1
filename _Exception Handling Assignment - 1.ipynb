{
 "cells": [
  {
   "cell_type": "raw",
   "id": "0fa69b59-e8cf-4f18-a5a6-a23d6ed2c7b9",
   "metadata": {},
   "source": [
    "QUESTION 2\n",
    "\n",
    "If an exception is not handle it will show error and the next codes will stop working..\n",
    "\n",
    "for ex:-"
   ]
  },
  {
   "cell_type": "code",
   "execution_count": 2,
   "id": "a53c5801-d43a-4453-a4a4-3985b274d324",
   "metadata": {},
   "outputs": [
    {
     "ename": "TypeError",
     "evalue": "can only concatenate str (not \"int\") to str",
     "output_type": "error",
     "traceback": [
      "\u001b[0;31m---------------------------------------------------------------------------\u001b[0m",
      "\u001b[0;31mTypeError\u001b[0m                                 Traceback (most recent call last)",
      "Cell \u001b[0;32mIn[2], line 1\u001b[0m\n\u001b[0;32m----> 1\u001b[0m \u001b[38;5;124;43m\"\u001b[39;49m\u001b[38;5;124;43msam\u001b[39;49m\u001b[38;5;124;43m\"\u001b[39;49m\u001b[38;5;241;43m+\u001b[39;49m\u001b[38;5;241;43m87\u001b[39;49m\n\u001b[1;32m      2\u001b[0m \u001b[38;5;28mprint\u001b[39m(\u001b[38;5;124m\"\u001b[39m\u001b[38;5;124mit will not print due to error\u001b[39m\u001b[38;5;124m\"\u001b[39m)\n",
      "\u001b[0;31mTypeError\u001b[0m: can only concatenate str (not \"int\") to str"
     ]
    }
   ],
   "source": [
    "\"sam\"+87\n",
    "print(\"it will not print due to error\")"
   ]
  },
  {
   "cell_type": "markdown",
   "id": "306e0603-5c42-48e8-a884-3e659c64c3e6",
   "metadata": {},
   "source": [
    "QUESTION 1\n",
    "\n",
    "An exception is an event, which occurs during the execution of a program that disrupts the normal flow of the program's instructions. In general, when a Python script encounters a situation that it cannot cope with, it raises an exception. An exception is a Python object that represents an error.\n",
    "\n",
    "An Exception is an event that occurs during the program execution and disrupts the normal flow of the program's execution. Errors mostly happen at compile-time like syntax error; however it can happen at runtime as well. Whereas an Exception occurs at runtime (checked exceptions can be detected at compile time)."
   ]
  },
  {
   "cell_type": "markdown",
   "id": "b869e2ad-0b48-4db7-a89f-9bf9878c810a",
   "metadata": {},
   "source": [
    "QUESTION 3\n",
    "\n",
    "try and except statements ae used to catch and handle errors.\n",
    "\n",
    "for ex:-"
   ]
  },
  {
   "cell_type": "code",
   "execution_count": 5,
   "id": "1a647064-ee2c-49f5-8b1f-8bfa22828b2f",
   "metadata": {},
   "outputs": [
    {
     "name": "stdout",
     "output_type": "stream",
     "text": [
      "it is a kind of typeError\n",
      " can only concatenate str (not \"int\") to str\n"
     ]
    }
   ],
   "source": [
    "try:\n",
    "    \"sam\"+90\n",
    "except TypeError as e:\n",
    "    print(\"it is a kind of typeError\\n\",e)"
   ]
  },
  {
   "cell_type": "markdown",
   "id": "9cbf5225-78e1-4207-8488-cfb7fcf021ee",
   "metadata": {},
   "source": [
    "QUESTION 4\n",
    "\n",
    "Try: This block will test the excepted error to occur.\n",
    "\n",
    "Except:  Here you can handle the error.\n",
    "\n",
    "Else: If there is no exception then this block will be executed.\n",
    "\n",
    "Finally: Finally block always gets executed either exception is generated or not."
   ]
  },
  {
   "cell_type": "code",
   "execution_count": 7,
   "id": "0a64c6cb-81f2-4f24-94ba-24fdf160a0d5",
   "metadata": {},
   "outputs": [
    {
     "name": "stdout",
     "output_type": "stream",
     "text": [
      "division by zero\n"
     ]
    }
   ],
   "source": [
    "try:\n",
    "    6/0\n",
    "except ZeroDivisionError as e:\n",
    "    print(e)"
   ]
  },
  {
   "cell_type": "code",
   "execution_count": 10,
   "id": "e7655055-6302-4357-920d-e26ea97c7ed1",
   "metadata": {},
   "outputs": [
    {
     "name": "stdout",
     "output_type": "stream",
     "text": [
      "your answer is 5.0\n"
     ]
    }
   ],
   "source": [
    "try:\n",
    "    a=25/5\n",
    "except Exception as e:\n",
    "    print(e)\n",
    "else:\n",
    "    print(f\"your answer is {a}\")"
   ]
  },
  {
   "cell_type": "code",
   "execution_count": 11,
   "id": "89567211-e775-4144-8d0f-93b1e2b2f4d5",
   "metadata": {},
   "outputs": [
    {
     "name": "stdout",
     "output_type": "stream",
     "text": [
      "division by zero\n",
      "i have to print\n"
     ]
    }
   ],
   "source": [
    "try:\n",
    "    6/0\n",
    "except ZeroDivisionError as e:\n",
    "    print(e)\n",
    "finally:\n",
    "    print(\"i have to print\")"
   ]
  },
  {
   "cell_type": "code",
   "execution_count": 12,
   "id": "5cb2bbf0-7d6a-4636-8866-fae658ba9907",
   "metadata": {},
   "outputs": [
    {
     "name": "stdout",
     "output_type": "stream",
     "text": [
      "your answer is 5.0\n",
      "i have to print\n"
     ]
    }
   ],
   "source": [
    "try:\n",
    "    a=25/5\n",
    "except Exception as e:\n",
    "    print(e)\n",
    "else:\n",
    "    print(f\"your answer is {a}\")\n",
    "finally:\n",
    "    print(\"i have to print\")"
   ]
  },
  {
   "cell_type": "markdown",
   "id": "ea1814e4-fa1c-4904-866a-0d866b8e5aee",
   "metadata": {},
   "source": [
    "QUESTION 4\n",
    "In Python, we can define custom exceptions by creating a new class that is derived from the built-in Exception class."
   ]
  },
  {
   "cell_type": "code",
   "execution_count": 31,
   "id": "53b8dfb2-f3a8-4ac5-94af-88856877873c",
   "metadata": {},
   "outputs": [],
   "source": [
    "##QUESTION 5\n",
    "\n",
    "class pass_marks(Exception):\n",
    "    def __init__(self,marks):\n",
    "        self.marks=marks"
   ]
  },
  {
   "cell_type": "code",
   "execution_count": 32,
   "id": "b8200d30-26b4-40eb-a732-2b7b7b629b2d",
   "metadata": {},
   "outputs": [],
   "source": [
    "def pass_fail(obt_marks):\n",
    "    if obt_marks<33:\n",
    "        raise pass_marks(\"you are fail\")\n",
    "    elif obt_marks==33:\n",
    "        raise pass_marks(\"you are just passed\")\n",
    "    else:\n",
    "        print(\"you are pass by good marks\")"
   ]
  },
  {
   "cell_type": "code",
   "execution_count": 33,
   "id": "295986ab-d3d1-4862-a70c-cc87080bfa09",
   "metadata": {},
   "outputs": [
    {
     "name": "stdin",
     "output_type": "stream",
     "text": [
      "enter your marks 33\n"
     ]
    },
    {
     "name": "stdout",
     "output_type": "stream",
     "text": [
      "you are just passed\n"
     ]
    }
   ],
   "source": [
    "try:\n",
    "    obt_marks=int(input(\"enter your marks\"))\n",
    "    pass_fail(obt_marks)\n",
    "except pass_marks as e:\n",
    "    print(e)\n",
    "    "
   ]
  },
  {
   "cell_type": "code",
   "execution_count": null,
   "id": "d854ed69-b4fd-41eb-91d6-2afa4779b0ca",
   "metadata": {},
   "outputs": [],
   "source": []
  },
  {
   "cell_type": "code",
   "execution_count": null,
   "id": "0100d07c-702c-4b6d-b3c8-5e6aaeb56dac",
   "metadata": {},
   "outputs": [],
   "source": []
  }
 ],
 "metadata": {
  "kernelspec": {
   "display_name": "Python 3 (ipykernel)",
   "language": "python",
   "name": "python3"
  },
  "language_info": {
   "codemirror_mode": {
    "name": "ipython",
    "version": 3
   },
   "file_extension": ".py",
   "mimetype": "text/x-python",
   "name": "python",
   "nbconvert_exporter": "python",
   "pygments_lexer": "ipython3",
   "version": "3.10.8"
  }
 },
 "nbformat": 4,
 "nbformat_minor": 5
}
